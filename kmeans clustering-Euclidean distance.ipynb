{
 "cells": [
  {
   "cell_type": "code",
   "execution_count": 1,
   "id": "e8f14fd0",
   "metadata": {},
   "outputs": [],
   "source": [
    "import numpy as np\n",
    "import math"
   ]
  },
  {
   "cell_type": "code",
   "execution_count": 2,
   "id": "0155b105",
   "metadata": {},
   "outputs": [],
   "source": [
    "a=np.array([12,17])\n",
    "b=np.array([10,11])\n",
    "c=np.array([8,7])\n",
    "d=np.array([13,16])"
   ]
  },
  {
   "cell_type": "code",
   "execution_count": 3,
   "id": "7d25f4d7",
   "metadata": {},
   "outputs": [],
   "source": [
    "# initializing clusters\n",
    "k1 = a\n",
    "k2 = b"
   ]
  },
  {
   "cell_type": "code",
   "execution_count": 13,
   "id": "e769a6f0",
   "metadata": {},
   "outputs": [],
   "source": [
    "def euclidean_distance(k1, k2):\n",
    "    return np.sqrt(np.sum((k1 - k2)**2))    "
   ]
  },
  {
   "cell_type": "code",
   "execution_count": 8,
   "id": "5d528402",
   "metadata": {},
   "outputs": [
    {
     "data": {
      "text/plain": [
       "10.770329614269007"
      ]
     },
     "execution_count": 8,
     "metadata": {},
     "output_type": "execute_result"
    }
   ],
   "source": [
    "euclidean_distance(a,c)"
   ]
  },
  {
   "cell_type": "code",
   "execution_count": 9,
   "id": "7a975f66",
   "metadata": {},
   "outputs": [
    {
     "data": {
      "text/plain": [
       "1.4142135623730951"
      ]
     },
     "execution_count": 9,
     "metadata": {},
     "output_type": "execute_result"
    }
   ],
   "source": [
    "euclidean_distance(a,d)"
   ]
  },
  {
   "cell_type": "code",
   "execution_count": 10,
   "id": "8ab1da26",
   "metadata": {},
   "outputs": [
    {
     "data": {
      "text/plain": [
       "4.47213595499958"
      ]
     },
     "execution_count": 10,
     "metadata": {},
     "output_type": "execute_result"
    }
   ],
   "source": [
    "euclidean_distance(b,c)"
   ]
  },
  {
   "cell_type": "code",
   "execution_count": 11,
   "id": "89afe87b",
   "metadata": {},
   "outputs": [
    {
     "data": {
      "text/plain": [
       "5.830951894845301"
      ]
     },
     "execution_count": 11,
     "metadata": {},
     "output_type": "execute_result"
    }
   ],
   "source": [
    "euclidean_distance(b,d)"
   ]
  },
  {
   "cell_type": "code",
   "execution_count": 16,
   "id": "c17e68e5",
   "metadata": {},
   "outputs": [],
   "source": [
    "distances = {\n",
    "    'a-c': euclidean_distance(a,c),\n",
    "    'a-d': euclidean_distance(a, d)    \n",
    "}"
   ]
  },
  {
   "cell_type": "code",
   "execution_count": 21,
   "id": "d38a652b",
   "metadata": {},
   "outputs": [],
   "source": [
    "best_pair = min(distances,key=distances.get)\n",
    "best_distance = distances[best_pair]"
   ]
  },
  {
   "cell_type": "code",
   "execution_count": 23,
   "id": "9ac4776b",
   "metadata": {},
   "outputs": [
    {
     "name": "stdout",
     "output_type": "stream",
     "text": [
      "minimum distance is: a-d with the distance 1.4142135623730951\n"
     ]
    }
   ],
   "source": [
    "print(\"minimum distance is:\",best_pair,\"with the distance\",best_distance)"
   ]
  },
  {
   "cell_type": "code",
   "execution_count": 27,
   "id": "d5cb75a4",
   "metadata": {},
   "outputs": [
    {
     "name": "stdout",
     "output_type": "stream",
     "text": [
      "Median is: 12.5 16.5\n"
     ]
    }
   ],
   "source": [
    "median1 = (a[0] + d[0])/2\n",
    "median2 = (a[1] + d[1])/2\n",
    "e = print(\"Median is:\",median1,median2)"
   ]
  },
  {
   "cell_type": "code",
   "execution_count": 34,
   "id": "c3bd912d",
   "metadata": {},
   "outputs": [
    {
     "name": "stdout",
     "output_type": "stream",
     "text": [
      "new cluster value is: [12.5 16.5]\n"
     ]
    }
   ],
   "source": [
    "updated_cluster_value=np.array([median1,median2])\n",
    "print(\"new cluster value is:\",updated_cluster_value)"
   ]
  },
  {
   "cell_type": "code",
   "execution_count": null,
   "id": "aeb99414",
   "metadata": {},
   "outputs": [],
   "source": []
  }
 ],
 "metadata": {
  "kernelspec": {
   "display_name": "Python 3 (ipykernel)",
   "language": "python",
   "name": "python3"
  },
  "language_info": {
   "codemirror_mode": {
    "name": "ipython",
    "version": 3
   },
   "file_extension": ".py",
   "mimetype": "text/x-python",
   "name": "python",
   "nbconvert_exporter": "python",
   "pygments_lexer": "ipython3",
   "version": "3.11.4"
  }
 },
 "nbformat": 4,
 "nbformat_minor": 5
}
